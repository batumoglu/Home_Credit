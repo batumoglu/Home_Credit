{
 "cells": [
  {
   "cell_type": "code",
   "execution_count": 29,
   "metadata": {},
   "outputs": [],
   "source": [
    "# FEATURE SELECTION\n",
    "\n",
    "# 1. FILTER METHODS\n",
    "# Feature            Response           Method    \n",
    "# ------------      -------------      --------\n",
    "# Categorical        Categorical  ->    Chi2\n",
    "# Continuous         Categorical  ->    LDA\n",
    "# Continuous         Continuous   ->    Pearson's\n",
    "# Categorical        Continuous   ->    Anova\n",
    "\n",
    "import pandas as pd"
   ]
  },
  {
   "cell_type": "code",
   "execution_count": 2,
   "metadata": {
    "scrolled": true
   },
   "outputs": [
    {
     "name": "stdout",
     "output_type": "stream",
     "text": [
      "Categorical variables:\n",
      "['NAME_CONTRACT_TYPE', 'CODE_GENDER', 'FLAG_OWN_CAR', 'FLAG_OWN_REALTY', 'NAME_TYPE_SUITE', 'NAME_INCOME_TYPE', 'NAME_EDUCATION_TYPE', 'NAME_FAMILY_STATUS', 'NAME_HOUSING_TYPE', 'OCCUPATION_TYPE', 'WEEKDAY_APPR_PROCESS_START', 'ORGANIZATION_TYPE', 'FONDKAPREMONT_MODE', 'HOUSETYPE_MODE', 'WALLSMATERIAL_MODE', 'EMERGENCYSTATE_MODE']\n"
     ]
    }
   ],
   "source": [
    "# application_train categorical features\n",
    "\n",
    "train = pd.read_csv(\"../../input/application_train.csv\")\n",
    "\n",
    "cat_cols = []\n",
    "for col in train.columns:\n",
    "    if train[col].dtype == object:\n",
    "        cat_cols.append(col)\n",
    "\n",
    "print(\"Categorical variables:\")\n",
    "print(cat_cols)\n"
   ]
  },
  {
   "cell_type": "code",
   "execution_count": 34,
   "metadata": {},
   "outputs": [],
   "source": [
    "# AllData_v3\n",
    "\n",
    "train = pd.read_csv(\"../../input/AllData_v3.train\")\n",
    "test = pd.read_csv(\"../../input/AllData_v3.test\")\n",
    "y = pd.read_csv(\"../../input/AllData_v3.label\")\n",
    "\n",
    "train[\"TARGET\"] = y\n",
    "\n",
    "corr = train.corr()\n"
   ]
  }
 ],
 "metadata": {
  "kernelspec": {
   "display_name": "Python 3",
   "language": "python",
   "name": "python3"
  },
  "language_info": {
   "codemirror_mode": {
    "name": "ipython",
    "version": 3
   },
   "file_extension": ".py",
   "mimetype": "text/x-python",
   "name": "python",
   "nbconvert_exporter": "python",
   "pygments_lexer": "ipython3",
   "version": "3.6.5"
  }
 },
 "nbformat": 4,
 "nbformat_minor": 2
}
