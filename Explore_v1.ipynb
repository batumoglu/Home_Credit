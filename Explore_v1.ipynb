{
 "cells": [
  {
   "cell_type": "code",
   "execution_count": null,
   "metadata": {},
   "outputs": [],
   "source": [
    "import pandas as pd\n",
    "import numpy as np\n",
    "import seaborn as sns\n",
    "import os\n",
    "import matplotlib.pyplot as plt"
   ]
  },
  {
   "cell_type": "code",
   "execution_count": null,
   "metadata": {},
   "outputs": [],
   "source": [
    "fileList = os.listdir(\"../input/\")\n",
    "fileList"
   ]
  },
  {
   "cell_type": "code",
   "execution_count": null,
   "metadata": {
    "scrolled": false
   },
   "outputs": [],
   "source": [
    "for file in fileList:\n",
    "    fileName = file.split('.')[0]    \n",
    "    if((fileName=='sample_submission') or (fileName=='HomeCredit_columns_description')):\n",
    "        continue\n",
    "    print(fileName)    \n",
    "    df = pd.read_csv('../input/'+file)\n",
    "    dtype_df = df.dtypes.reset_index()\n",
    "    dtype_df.columns = [\"Count\", \"Type\"]\n",
    "    display(dtype_df.groupby(\"Type\").aggregate('count').reset_index())   \n",
    "    print('---------------------')\n",
    "    print('\\n')\n",
    "    "
   ]
  },
  {
   "cell_type": "code",
   "execution_count": null,
   "metadata": {},
   "outputs": [],
   "source": [
    "for file in fileList:\n",
    "    fileName = file.split('.')[0]    \n",
    "    if((fileName=='sample_submission') or (fileName=='HomeCredit_columns_description')):\n",
    "        continue\n",
    "    print(fileName) \n",
    "\n",
    "    for i in range(len(df.columns)):\n",
    "        try:\n",
    "            plt.figure(figsize=(12,8))\n",
    "            type(df.iloc[:,i])\n",
    "            sns.distplot(df.iloc[:,i], bins=50, kde=False)\n",
    "            plt.show()\n",
    "        except:\n",
    "            print(i)"
   ]
  }
 ],
 "metadata": {
  "kernelspec": {
   "display_name": "Python 3",
   "language": "python",
   "name": "python3"
  },
  "language_info": {
   "codemirror_mode": {
    "name": "ipython",
    "version": 3
   },
   "file_extension": ".py",
   "mimetype": "text/x-python",
   "name": "python",
   "nbconvert_exporter": "python",
   "pygments_lexer": "ipython3",
   "version": "3.6.4"
  }
 },
 "nbformat": 4,
 "nbformat_minor": 2
}
