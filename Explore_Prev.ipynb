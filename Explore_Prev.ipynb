{
 "cells": [
  {
   "cell_type": "code",
   "execution_count": 18,
   "metadata": {
    "collapsed": true
   },
   "outputs": [],
   "source": [
    "import pandas as pd\n",
    "import numpy as np"
   ]
  },
  {
   "cell_type": "code",
   "execution_count": 19,
   "metadata": {},
   "outputs": [
    {
     "name": "stdout",
     "output_type": "stream",
     "text": [
      "AllData_CatBoost_v1.csv                 CatBoost_v1.py\r\n",
      "AllData_LightGBM_v1.csv                 \u001b[0m\u001b[01;34mData\u001b[0m/\r\n",
      "AllData_v2_CatBoost_v1.csv              Explore_Buro.ipynb\r\n",
      "AllData_v2_LightGBM_v1.csv              Explore_Prev.ipynb\r\n",
      "AllData_XGB_v1.csv                      Explore_v1.ipynb\r\n",
      "ApplicationBuroAndPrev_CatBoost_v1.csv  Explore_v2.ipynb\r\n",
      "ApplicationBuroAndPrev_LightGBM_v1.csv  Gather_Data.py\r\n",
      "ApplicationBuroAndPrev_XGB_v1.csv       GatherTables.py\r\n",
      "ApplicationBuroBalance_CatBoost_v1.csv  LICENSE\r\n",
      "ApplicationBuroBalance_LightGBM_v1.csv  LightGBM_Sample_Whole.py\r\n",
      "ApplicationBuroBalance_XGB_v1.csv       LightGBM_v1.py\r\n",
      "ApplicationBuro_CatBoost_v1.csv         ModelRunnerExample.py\r\n",
      "ApplicationBuro_LightGBM_v1.csv         ModelRunner.py\r\n",
      "ApplicationBuro_XGB_v1.csv              \u001b[01;34m__pycache__\u001b[0m/\r\n",
      "ApplicationOnly_CatBoost_v1.csv         README.md\r\n",
      "ApplicationOnly_LightGBM_v1.csv         XGB_v1.py\r\n",
      "ApplicationOnly_XGB_v1.csv\r\n"
     ]
    }
   ],
   "source": [
    "ls"
   ]
  },
  {
   "cell_type": "code",
   "execution_count": 20,
   "metadata": {
    "collapsed": true
   },
   "outputs": [],
   "source": [
    "prev = pd.read_csv('../input/previous_application.csv')"
   ]
  },
  {
   "cell_type": "code",
   "execution_count": 21,
   "metadata": {},
   "outputs": [
    {
     "data": {
      "text/plain": [
       "Index(['SK_ID_PREV', 'SK_ID_CURR', 'NAME_CONTRACT_TYPE', 'AMT_ANNUITY',\n",
       "       'AMT_APPLICATION', 'AMT_CREDIT', 'AMT_DOWN_PAYMENT', 'AMT_GOODS_PRICE',\n",
       "       'WEEKDAY_APPR_PROCESS_START', 'HOUR_APPR_PROCESS_START',\n",
       "       'FLAG_LAST_APPL_PER_CONTRACT', 'NFLAG_LAST_APPL_IN_DAY',\n",
       "       'RATE_DOWN_PAYMENT', 'RATE_INTEREST_PRIMARY',\n",
       "       'RATE_INTEREST_PRIVILEGED', 'NAME_CASH_LOAN_PURPOSE',\n",
       "       'NAME_CONTRACT_STATUS', 'DAYS_DECISION', 'NAME_PAYMENT_TYPE',\n",
       "       'CODE_REJECT_REASON', 'NAME_TYPE_SUITE', 'NAME_CLIENT_TYPE',\n",
       "       'NAME_GOODS_CATEGORY', 'NAME_PORTFOLIO', 'NAME_PRODUCT_TYPE',\n",
       "       'CHANNEL_TYPE', 'SELLERPLACE_AREA', 'NAME_SELLER_INDUSTRY',\n",
       "       'CNT_PAYMENT', 'NAME_YIELD_GROUP', 'PRODUCT_COMBINATION',\n",
       "       'DAYS_FIRST_DRAWING', 'DAYS_FIRST_DUE', 'DAYS_LAST_DUE_1ST_VERSION',\n",
       "       'DAYS_LAST_DUE', 'DAYS_TERMINATION', 'NFLAG_INSURED_ON_APPROVAL'],\n",
       "      dtype='object')"
      ]
     },
     "execution_count": 21,
     "metadata": {},
     "output_type": "execute_result"
    }
   ],
   "source": [
    "prev.columns"
   ]
  },
  {
   "cell_type": "code",
   "execution_count": 39,
   "metadata": {
    "scrolled": true
   },
   "outputs": [
    {
     "data": {
      "text/html": [
       "<div>\n",
       "<style scoped>\n",
       "    .dataframe tbody tr th:only-of-type {\n",
       "        vertical-align: middle;\n",
       "    }\n",
       "\n",
       "    .dataframe tbody tr th {\n",
       "        vertical-align: top;\n",
       "    }\n",
       "\n",
       "    .dataframe thead th {\n",
       "        text-align: right;\n",
       "    }\n",
       "</style>\n",
       "<table border=\"1\" class=\"dataframe\">\n",
       "  <thead>\n",
       "    <tr style=\"text-align: right;\">\n",
       "      <th></th>\n",
       "      <th>Count</th>\n",
       "      <th>Type</th>\n",
       "    </tr>\n",
       "  </thead>\n",
       "  <tbody>\n",
       "    <tr>\n",
       "      <th>0</th>\n",
       "      <td>SK_ID_PREV</td>\n",
       "      <td>int64</td>\n",
       "    </tr>\n",
       "    <tr>\n",
       "      <th>1</th>\n",
       "      <td>SK_ID_CURR</td>\n",
       "      <td>int64</td>\n",
       "    </tr>\n",
       "    <tr>\n",
       "      <th>9</th>\n",
       "      <td>HOUR_APPR_PROCESS_START</td>\n",
       "      <td>int64</td>\n",
       "    </tr>\n",
       "    <tr>\n",
       "      <th>11</th>\n",
       "      <td>NFLAG_LAST_APPL_IN_DAY</td>\n",
       "      <td>int64</td>\n",
       "    </tr>\n",
       "    <tr>\n",
       "      <th>17</th>\n",
       "      <td>DAYS_DECISION</td>\n",
       "      <td>int64</td>\n",
       "    </tr>\n",
       "    <tr>\n",
       "      <th>26</th>\n",
       "      <td>SELLERPLACE_AREA</td>\n",
       "      <td>int64</td>\n",
       "    </tr>\n",
       "  </tbody>\n",
       "</table>\n",
       "</div>"
      ],
      "text/plain": [
       "                      Count   Type\n",
       "0                SK_ID_PREV  int64\n",
       "1                SK_ID_CURR  int64\n",
       "9   HOUR_APPR_PROCESS_START  int64\n",
       "11   NFLAG_LAST_APPL_IN_DAY  int64\n",
       "17            DAYS_DECISION  int64\n",
       "26         SELLERPLACE_AREA  int64"
      ]
     },
     "execution_count": 39,
     "metadata": {},
     "output_type": "execute_result"
    }
   ],
   "source": [
    "dtype_df = prev.dtypes.reset_index()\n",
    "dtype_df.columns = [\"Count\", \"Type\"]\n",
    "dtype_df[dtype_df['Type']=='int64']"
   ]
  },
  {
   "cell_type": "code",
   "execution_count": 32,
   "metadata": {
    "scrolled": true
   },
   "outputs": [
    {
     "data": {
      "text/plain": [
       "-1       762675\n",
       " 0        60523\n",
       " 50       37401\n",
       " 30       34423\n",
       " 20       33840\n",
       " 100      31409\n",
       " 40       24429\n",
       " 25       18142\n",
       " 15       17175\n",
       " 150      16652\n",
       " 10       16523\n",
       " 5        14942\n",
       " 200      12819\n",
       " 4        12797\n",
       " 1000     12589\n",
       " 60       10943\n",
       " 35       10468\n",
       " 1500      9887\n",
       " 300       9308\n",
       " 2000      8723\n",
       " 45        8487\n",
       " 80        8029\n",
       " 70        7881\n",
       " 6         7411\n",
       " 500       6335\n",
       " 32        5547\n",
       " 3         5472\n",
       " 1         5275\n",
       " 1200      4864\n",
       " 250       4696\n",
       "          ...  \n",
       " 959          1\n",
       " 5705         1\n",
       " 2095         1\n",
       " 1069         1\n",
       " 1922         1\n",
       " 653          1\n",
       " 1322         1\n",
       " 2347         1\n",
       " 1284         1\n",
       " 1897         1\n",
       " 1290         1\n",
       " 1292         1\n",
       " 2733         1\n",
       " 9312         1\n",
       " 1299         1\n",
       " 2931         1\n",
       " 884          1\n",
       " 677          1\n",
       " 1697         1\n",
       " 1119         1\n",
       " 887          1\n",
       " 2332         1\n",
       " 2937         1\n",
       " 1314         1\n",
       " 1317         1\n",
       " 1114         1\n",
       " 2345         1\n",
       " 1112         1\n",
       " 4186         1\n",
       " 1023         1\n",
       "Name: SELLERPLACE_AREA, Length: 2097, dtype: int64"
      ]
     },
     "execution_count": 32,
     "metadata": {},
     "output_type": "execute_result"
    }
   ],
   "source": [
    "prev['SELLERPLACE_AREA'].value_counts()"
   ]
  },
  {
   "cell_type": "code",
   "execution_count": 16,
   "metadata": {},
   "outputs": [],
   "source": [
    "idColumns = ['SK_ID_CURR', 'SK_ID_PREV']\n",
    "cat_feats = [f for f in prev.columns if prev[f].dtype == 'object']  \n",
    "nonNum_feats = idColumns + cat_feats\n",
    "for f_ in cat_feats:\n",
    "    prev[f_], indexer = pd.factorize(prev[f_])\n",
    "num_feats = [f for f in prev.columns if f not in nonNum_feats]"
   ]
  },
  {
   "cell_type": "code",
   "execution_count": 17,
   "metadata": {},
   "outputs": [
    {
     "data": {
      "text/plain": [
       "SK_ID_PREV                       int64\n",
       "SK_ID_CURR                       int64\n",
       "NAME_CONTRACT_TYPE               int64\n",
       "AMT_ANNUITY                    float64\n",
       "AMT_APPLICATION                float64\n",
       "AMT_CREDIT                     float64\n",
       "AMT_DOWN_PAYMENT               float64\n",
       "AMT_GOODS_PRICE                float64\n",
       "WEEKDAY_APPR_PROCESS_START       int64\n",
       "HOUR_APPR_PROCESS_START          int64\n",
       "FLAG_LAST_APPL_PER_CONTRACT      int64\n",
       "NFLAG_LAST_APPL_IN_DAY           int64\n",
       "RATE_DOWN_PAYMENT              float64\n",
       "RATE_INTEREST_PRIMARY          float64\n",
       "RATE_INTEREST_PRIVILEGED       float64\n",
       "NAME_CASH_LOAN_PURPOSE           int64\n",
       "NAME_CONTRACT_STATUS             int64\n",
       "DAYS_DECISION                    int64\n",
       "NAME_PAYMENT_TYPE                int64\n",
       "CODE_REJECT_REASON               int64\n",
       "NAME_TYPE_SUITE                  int64\n",
       "NAME_CLIENT_TYPE                 int64\n",
       "NAME_GOODS_CATEGORY              int64\n",
       "NAME_PORTFOLIO                   int64\n",
       "NAME_PRODUCT_TYPE                int64\n",
       "CHANNEL_TYPE                     int64\n",
       "SELLERPLACE_AREA                 int64\n",
       "NAME_SELLER_INDUSTRY             int64\n",
       "CNT_PAYMENT                    float64\n",
       "NAME_YIELD_GROUP                 int64\n",
       "PRODUCT_COMBINATION              int64\n",
       "DAYS_FIRST_DRAWING             float64\n",
       "DAYS_FIRST_DUE                 float64\n",
       "DAYS_LAST_DUE_1ST_VERSION      float64\n",
       "DAYS_LAST_DUE                  float64\n",
       "DAYS_TERMINATION               float64\n",
       "NFLAG_INSURED_ON_APPROVAL      float64\n",
       "dtype: object"
      ]
     },
     "execution_count": 17,
     "metadata": {},
     "output_type": "execute_result"
    }
   ],
   "source": [
    "prev.dtypes"
   ]
  },
  {
   "cell_type": "code",
   "execution_count": null,
   "metadata": {
    "collapsed": true
   },
   "outputs": [],
   "source": []
  }
 ],
 "metadata": {
  "kernelspec": {
   "display_name": "Python 3",
   "language": "python",
   "name": "python3"
  },
  "language_info": {
   "codemirror_mode": {
    "name": "ipython",
    "version": 3
   },
   "file_extension": ".py",
   "mimetype": "text/x-python",
   "name": "python",
   "nbconvert_exporter": "python",
   "pygments_lexer": "ipython3",
   "version": "3.6.4"
  }
 },
 "nbformat": 4,
 "nbformat_minor": 2
}
