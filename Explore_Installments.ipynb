{
 "cells": [
  {
   "cell_type": "code",
   "execution_count": 1,
   "metadata": {
    "collapsed": true
   },
   "outputs": [],
   "source": [
    "import pandas as pd\n",
    "import numpy as np"
   ]
  },
  {
   "cell_type": "code",
   "execution_count": 2,
   "metadata": {
    "collapsed": true
   },
   "outputs": [],
   "source": [
    "installments = pd.read_csv('../input/installments_payments.csv')"
   ]
  },
  {
   "cell_type": "code",
   "execution_count": 4,
   "metadata": {},
   "outputs": [
    {
     "data": {
      "text/html": [
       "<div>\n",
       "<style scoped>\n",
       "    .dataframe tbody tr th:only-of-type {\n",
       "        vertical-align: middle;\n",
       "    }\n",
       "\n",
       "    .dataframe tbody tr th {\n",
       "        vertical-align: top;\n",
       "    }\n",
       "\n",
       "    .dataframe thead th {\n",
       "        text-align: right;\n",
       "    }\n",
       "</style>\n",
       "<table border=\"1\" class=\"dataframe\">\n",
       "  <thead>\n",
       "    <tr style=\"text-align: right;\">\n",
       "      <th></th>\n",
       "      <th>Count</th>\n",
       "      <th>Type</th>\n",
       "    </tr>\n",
       "  </thead>\n",
       "  <tbody>\n",
       "    <tr>\n",
       "      <th>0</th>\n",
       "      <td>SK_ID_PREV</td>\n",
       "      <td>int64</td>\n",
       "    </tr>\n",
       "    <tr>\n",
       "      <th>1</th>\n",
       "      <td>SK_ID_CURR</td>\n",
       "      <td>int64</td>\n",
       "    </tr>\n",
       "    <tr>\n",
       "      <th>3</th>\n",
       "      <td>NUM_INSTALMENT_NUMBER</td>\n",
       "      <td>int64</td>\n",
       "    </tr>\n",
       "  </tbody>\n",
       "</table>\n",
       "</div>"
      ],
      "text/plain": [
       "                   Count   Type\n",
       "0             SK_ID_PREV  int64\n",
       "1             SK_ID_CURR  int64\n",
       "3  NUM_INSTALMENT_NUMBER  int64"
      ]
     },
     "execution_count": 4,
     "metadata": {},
     "output_type": "execute_result"
    }
   ],
   "source": [
    "dtype_df = installments.dtypes.reset_index()\n",
    "dtype_df.columns = [\"Count\", \"Type\"]\n",
    "dtype_df[dtype_df['Type']=='int64']"
   ]
  },
  {
   "cell_type": "code",
   "execution_count": 10,
   "metadata": {},
   "outputs": [
    {
     "data": {
      "text/plain": [
       "1.0      8485004\n",
       "0.0      4082498\n",
       "2.0       620283\n",
       "3.0       237063\n",
       "4.0        55274\n",
       "5.0        48404\n",
       "6.0        17092\n",
       "7.0        16771\n",
       "9.0         8359\n",
       "8.0         7814\n",
       "10.0        4637\n",
       "11.0        4342\n",
       "13.0        2951\n",
       "12.0        2863\n",
       "15.0        1917\n",
       "14.0        1906\n",
       "16.0        1283\n",
       "17.0        1249\n",
       "18.0         883\n",
       "19.0         816\n",
       "20.0         615\n",
       "21.0         589\n",
       "22.0         426\n",
       "23.0         373\n",
       "24.0         291\n",
       "25.0         268\n",
       "26.0         211\n",
       "27.0         177\n",
       "29.0         163\n",
       "28.0         145\n",
       "          ...   \n",
       "35.0          46\n",
       "39.0          42\n",
       "36.0          36\n",
       "37.0          33\n",
       "38.0          29\n",
       "40.0          19\n",
       "43.0          19\n",
       "41.0          18\n",
       "42.0          18\n",
       "44.0          13\n",
       "61.0           8\n",
       "45.0           8\n",
       "72.0           7\n",
       "46.0           5\n",
       "47.0           4\n",
       "48.0           3\n",
       "49.0           3\n",
       "50.0           3\n",
       "52.0           3\n",
       "51.0           2\n",
       "53.0           1\n",
       "54.0           1\n",
       "55.0           1\n",
       "56.0           1\n",
       "57.0           1\n",
       "58.0           1\n",
       "59.0           1\n",
       "178.0          1\n",
       "68.0           1\n",
       "73.0           1\n",
       "Name: NUM_INSTALMENT_VERSION, Length: 65, dtype: int64"
      ]
     },
     "execution_count": 10,
     "metadata": {},
     "output_type": "execute_result"
    }
   ],
   "source": [
    "installments['NUM_INSTALMENT_VERSION'].value_counts()"
   ]
  },
  {
   "cell_type": "code",
   "execution_count": 5,
   "metadata": {},
   "outputs": [
    {
     "data": {
      "text/html": [
       "<div>\n",
       "<style scoped>\n",
       "    .dataframe tbody tr th:only-of-type {\n",
       "        vertical-align: middle;\n",
       "    }\n",
       "\n",
       "    .dataframe tbody tr th {\n",
       "        vertical-align: top;\n",
       "    }\n",
       "\n",
       "    .dataframe thead th {\n",
       "        text-align: right;\n",
       "    }\n",
       "</style>\n",
       "<table border=\"1\" class=\"dataframe\">\n",
       "  <thead>\n",
       "    <tr style=\"text-align: right;\">\n",
       "      <th></th>\n",
       "      <th>Count</th>\n",
       "      <th>Type</th>\n",
       "    </tr>\n",
       "  </thead>\n",
       "  <tbody>\n",
       "    <tr>\n",
       "      <th>2</th>\n",
       "      <td>NUM_INSTALMENT_VERSION</td>\n",
       "      <td>float64</td>\n",
       "    </tr>\n",
       "    <tr>\n",
       "      <th>4</th>\n",
       "      <td>DAYS_INSTALMENT</td>\n",
       "      <td>float64</td>\n",
       "    </tr>\n",
       "    <tr>\n",
       "      <th>5</th>\n",
       "      <td>DAYS_ENTRY_PAYMENT</td>\n",
       "      <td>float64</td>\n",
       "    </tr>\n",
       "    <tr>\n",
       "      <th>6</th>\n",
       "      <td>AMT_INSTALMENT</td>\n",
       "      <td>float64</td>\n",
       "    </tr>\n",
       "    <tr>\n",
       "      <th>7</th>\n",
       "      <td>AMT_PAYMENT</td>\n",
       "      <td>float64</td>\n",
       "    </tr>\n",
       "  </tbody>\n",
       "</table>\n",
       "</div>"
      ],
      "text/plain": [
       "                    Count     Type\n",
       "2  NUM_INSTALMENT_VERSION  float64\n",
       "4         DAYS_INSTALMENT  float64\n",
       "5      DAYS_ENTRY_PAYMENT  float64\n",
       "6          AMT_INSTALMENT  float64\n",
       "7             AMT_PAYMENT  float64"
      ]
     },
     "execution_count": 5,
     "metadata": {},
     "output_type": "execute_result"
    }
   ],
   "source": [
    "dtype_df = installments.dtypes.reset_index()\n",
    "dtype_df.columns = [\"Count\", \"Type\"]\n",
    "dtype_df[dtype_df['Type']=='float64']"
   ]
  },
  {
   "cell_type": "code",
   "execution_count": 6,
   "metadata": {},
   "outputs": [
    {
     "data": {
      "text/html": [
       "<div>\n",
       "<style scoped>\n",
       "    .dataframe tbody tr th:only-of-type {\n",
       "        vertical-align: middle;\n",
       "    }\n",
       "\n",
       "    .dataframe tbody tr th {\n",
       "        vertical-align: top;\n",
       "    }\n",
       "\n",
       "    .dataframe thead th {\n",
       "        text-align: right;\n",
       "    }\n",
       "</style>\n",
       "<table border=\"1\" class=\"dataframe\">\n",
       "  <thead>\n",
       "    <tr style=\"text-align: right;\">\n",
       "      <th></th>\n",
       "      <th>Count</th>\n",
       "      <th>Type</th>\n",
       "    </tr>\n",
       "  </thead>\n",
       "  <tbody>\n",
       "  </tbody>\n",
       "</table>\n",
       "</div>"
      ],
      "text/plain": [
       "Empty DataFrame\n",
       "Columns: [Count, Type]\n",
       "Index: []"
      ]
     },
     "execution_count": 6,
     "metadata": {},
     "output_type": "execute_result"
    }
   ],
   "source": [
    "dtype_df = installments.dtypes.reset_index()\n",
    "dtype_df.columns = [\"Count\", \"Type\"]\n",
    "dtype_df[dtype_df['Type']=='object']"
   ]
  }
 ],
 "metadata": {
  "kernelspec": {
   "display_name": "Python 3",
   "language": "python",
   "name": "python3"
  },
  "language_info": {
   "codemirror_mode": {
    "name": "ipython",
    "version": 3
   },
   "file_extension": ".py",
   "mimetype": "text/x-python",
   "name": "python",
   "nbconvert_exporter": "python",
   "pygments_lexer": "ipython3",
   "version": "3.6.4"
  }
 },
 "nbformat": 4,
 "nbformat_minor": 2
}
